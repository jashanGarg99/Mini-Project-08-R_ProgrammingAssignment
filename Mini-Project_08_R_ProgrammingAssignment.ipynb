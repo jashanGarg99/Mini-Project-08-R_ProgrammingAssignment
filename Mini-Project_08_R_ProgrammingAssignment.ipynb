{
  "nbformat": 4,
  "nbformat_minor": 0,
  "metadata": {
    "colab": {
      "provenance": [],
      "authorship_tag": "ABX9TyMPlQDLUKI4u68OPq5xnbcD",
      "include_colab_link": true
    },
    "kernelspec": {
      "name": "python3",
      "display_name": "Python 3"
    },
    "language_info": {
      "name": "python"
    }
  },
  "cells": [
    {
      "cell_type": "markdown",
      "metadata": {
        "id": "view-in-github",
        "colab_type": "text"
      },
      "source": [
        "<a href=\"https://colab.research.google.com/github/ManthanVerma7/TIET-SS-MiniProject-08-R_ProgrammingAssignment/blob/main/TIET_SS_MiniProject_08_R_ProgrammingAssignment.ipynb\" target=\"_parent\"><img src=\"https://colab.research.google.com/assets/colab-badge.svg\" alt=\"Open In Colab\"/></a>"
      ]
    },
    {
      "cell_type": "markdown",
      "source": [
        "# QUESTION: **1**"
      ],
      "metadata": {
        "id": "2GL9_hEqBjIV"
      }
    },
    {
      "cell_type": "code",
      "execution_count": 1,
      "metadata": {
        "id": "2TNGr81jAjkW"
      },
      "outputs": [],
      "source": [
        "import random\n",
        "import string\n",
        "\n",
        "with open(\"random_strings.txt\", \"w\") as file:\n",
        "    for _ in range(1000):\n",
        "        random_string = ''.join(random.choices(string.ascii_letters + string.digits, k=10))\n",
        "        file.write(random_string + \"\\n\")"
      ]
    },
    {
      "cell_type": "markdown",
      "source": [
        "# QUESTION: **2**"
      ],
      "metadata": {
        "id": "q8htigcqB7Dj"
      }
    },
    {
      "cell_type": "code",
      "source": [
        "import numpy as np\n",
        "import pandas as pd\n",
        "import seaborn as sns\n",
        "import matplotlib.pyplot as plt\n",
        "\n",
        "# Create dataset\n",
        "data = np.random.randint(1, 201, size=(100, 30))\n",
        "df = pd.DataFrame(data)\n",
        "\n",
        "# (i) Replace values between [10,60] with NA and count missing rows\n",
        "df[(df >= 10) & (df <= 60)] = np.nan\n",
        "missing_rows = df.isnull().any(axis=1).sum()\n",
        "print(f\"Number of rows with missing values: {missing_rows}\")\n",
        "\n",
        "# (ii) Replace NA with column average\n",
        "df = df.fillna(df.mean())\n",
        "\n",
        "# (iii) Pearson correlation, heatmap, and select columns with correlation <= -0.7\n",
        "corr = df.corr()\n",
        "sns.heatmap(corr, annot=True, cmap='coolwarm')\n",
        "plt.show()\n",
        "selected_cols = [col for col in corr.columns if any(corr[col] <= -0.7)]\n",
        "df_selected = df[selected_cols]\n",
        "\n",
        "# (iv) Normalize values between 0 and 10\n",
        "df_normalized = (df - df.min()) / (df.max() - df.min()) * 10\n",
        "\n",
        "# (v) Replace values with 1 if <= 0.5 else 0\n",
        "df_final = np.where(df_normalized <= 0.5, 1, 0)"
      ],
      "metadata": {
        "id": "89kIW7LbB4XW"
      },
      "execution_count": null,
      "outputs": []
    },
    {
      "cell_type": "markdown",
      "source": [
        "#QUESTION: **3**"
      ],
      "metadata": {
        "id": "ubWscyVjCD3y"
      }
    },
    {
      "cell_type": "code",
      "source": [
        "import numpy as np\n",
        "import pandas as pd\n",
        "from sklearn.cluster import KMeans, AgglomerativeClustering\n",
        "import matplotlib.pyplot as plt\n",
        "from scipy.spatial.distance import pdist, squareform\n",
        "\n",
        "# Create dataset\n",
        "data = np.concatenate([np.random.uniform(-10, 10, size=(500, 4)),\n",
        "                      np.random.uniform(-100, 100, size=(500, 6))], axis=1)\n",
        "df = pd.DataFrame(data)\n",
        "\n",
        "# Determine optimal number of clusters and plot distance metric\n",
        "def plot_elbow(data):\n",
        "    inertias = []\n",
        "    K = range(1, 11)\n",
        "    for k in K:\n",
        "        kmeans = KMeans(n_clusters=k, random_state=42).fit(data)\n",
        "        inertias.append(kmeans.inertia_)\n",
        "    plt.plot(K, inertias, 'bx-')\n",
        "    plt.xlabel('k')\n",
        "    plt.ylabel('Inertia')\n",
        "    plt.title('Elbow Method For Optimal k')\n",
        "    plt.show()\n",
        "\n",
        "# (i) K-Means clustering\n",
        "plot_elbow(df)\n",
        "kmeans = KMeans(n_clusters=3, random_state=42).fit(df)\n",
        "\n",
        "# (ii) Hierarchical clustering\n",
        "dist_matrix = squareform(pdist(df))\n",
        "hierarchical = AgglomerativeClustering(n_clusters=3, linkage='ward').fit(df)"
      ],
      "metadata": {
        "id": "vPRiRIuDCDVe"
      },
      "execution_count": null,
      "outputs": []
    },
    {
      "cell_type": "markdown",
      "source": [
        "#QUESTION: **4**"
      ],
      "metadata": {
        "id": "XaH7ZktECPIQ"
      }
    },
    {
      "cell_type": "code",
      "source": [
        "import numpy as np\n",
        "import pandas as pd\n",
        "import matplotlib.pyplot as plt\n",
        "\n",
        "# Create dataset\n",
        "data = np.random.uniform(-100, 100, size=(600, 15))\n",
        "df = pd.DataFrame(data)\n",
        "\n",
        "# (i) Plot scatter graph between Column 5 and Column 6\n",
        "plt.scatter(df[4], df[5])\n",
        "plt.xlabel('Column 5')\n",
        "plt.ylabel('Column 6')\n",
        "plt.title('Scatter Plot')\n",
        "plt.show()\n",
        "\n",
        "# (ii) Plot histogram of each column in single graph\n",
        "df.hist()\n",
        "plt.show()\n",
        "\n",
        "# (iii) Plot the Box plot of each column in single graph\n",
        "df.boxplot()\n",
        "plt.show()"
      ],
      "metadata": {
        "id": "-zJaI-YXCOzR"
      },
      "execution_count": null,
      "outputs": []
    },
    {
      "cell_type": "markdown",
      "source": [
        "#QUESTION: **5**"
      ],
      "metadata": {
        "id": "n9TKRXavCXtE"
      }
    },
    {
      "cell_type": "code",
      "source": [
        "import numpy as np\n",
        "import pandas as pd\n",
        "from scipy import stats\n",
        "\n",
        "# Create dataset\n",
        "data = np.random.uniform(5, 10, size=(500, 5))\n",
        "df = pd.DataFrame(data)\n",
        "\n",
        "# (i) Perform t-Test on each column\n",
        "for column in df.columns:\n",
        "    t_stat, p_val = stats.ttest_1samp(df[column], popmean=df[column].mean())\n",
        "    print(f\"t-Test for Column {column}: t-statistic = {t_stat}, p-value = {p_val}\")\n",
        "\n",
        "# (ii) Perform Wilcoxon Signed Rank Test on each column\n",
        "for column in df.columns:\n",
        "    stat, p_val = stats.wilcoxon(df[column] - df[column].mean())\n",
        "    print(f\"Wilcoxon Signed Rank Test for Column {column}: statistic = {stat}, p-value = {p_val}\")\n",
        "\n",
        "# (iii) Perform Two Sample t-Test and Wilcoxon Rank Sum Test on Column 3 and Column 4\n",
        "t_stat, p_val = stats.ttest_ind(df[2], df[3])\n",
        "print(f\"Two Sample t-Test: t-statistic = {t_stat}, p-value = {p_val}\")\n",
        "stat, p_val = stats.ranksums(df[2], df[3])\n",
        "print(f\"Wilcoxon Rank Sum Test: statistic = {stat}, p-value = {p_val}\")"
      ],
      "metadata": {
        "id": "g2L-iRk4CXCz"
      },
      "execution_count": null,
      "outputs": []
    }
  ]
}